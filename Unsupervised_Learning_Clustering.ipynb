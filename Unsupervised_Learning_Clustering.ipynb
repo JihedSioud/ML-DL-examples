{
  "nbformat": 4,
  "nbformat_minor": 0,
  "metadata": {
    "colab": {
      "provenance": [],
      "include_colab_link": true
    },
    "kernelspec": {
      "name": "python3",
      "display_name": "Python 3"
    }
  },
  "cells": [
    {
      "cell_type": "markdown",
      "metadata": {
        "id": "view-in-github",
        "colab_type": "text"
      },
      "source": [
        "<a href=\"https://colab.research.google.com/github/JihedSioud/ML-DL-examples/blob/main/Unsupervised_Learning_Clustering.ipynb\" target=\"_parent\"><img src=\"https://colab.research.google.com/assets/colab-badge.svg\" alt=\"Open In Colab\"/></a>"
      ]
    },
    {
      "cell_type": "markdown",
      "metadata": {
        "id": "x2HtcPlhc2ku"
      },
      "source": [
        "This assigments assumes you've been (at least partly) through [Assignment 1](https://colab.research.google.com/drive/132p1bYleoq71Za1gz7_iP5nDnRPKWeFo) which contains information about the assignment submission process. Basically you need to make a copy of the Python notebook and register it in the [assignments spreadsheet](https://docs.google.com/spreadsheets/d/1PDU5qpydm2psfCTbCu47lYSPKETS9h__ZsVm9BgQFJ4), after ensuring that my email `karolos.potamianos@cern.ch` has access.\n",
        "\n",
        "***Please don't forget to tell me who you are:***\n",
        "\n",
        "**NAME:Jihed Sioud**\n",
        "\n",
        "**EMAIL:Jihed.sioud@gmail.com**"
      ]
    },
    {
      "cell_type": "markdown",
      "metadata": {
        "id": "Qi6rOPTQdgSX"
      },
      "source": [
        "# Clustering data points\n",
        "\n",
        "In this assigmnent you'll show me which algorithms can be used to cluster some data points that have no known label.\n",
        "\n",
        "We start, as usual, by importing some modules."
      ]
    },
    {
      "cell_type": "code",
      "metadata": {
        "id": "rf4s88wecdMp"
      },
      "source": [
        "import numpy as np\n",
        "import matplotlib.pyplot as plt\n",
        "%matplotlib inline\n",
        "from sklearn.datasets import make_blobs"
      ],
      "execution_count": null,
      "outputs": []
    },
    {
      "cell_type": "markdown",
      "metadata": {
        "id": "DmmrySxic0Qx"
      },
      "source": [
        "And we generate our dataset"
      ]
    },
    {
      "cell_type": "code",
      "metadata": {
        "colab": {
          "base_uri": "https://localhost:8080/",
          "height": 279
        },
        "id": "KCUWT_LTc0vJ",
        "outputId": "d4f2ea8d-0a79-4a9d-89fa-f8a87845e64a"
      },
      "source": [
        "# Generate some random cluster data\n",
        "X, y = make_blobs(random_state=170, n_samples=600, centers = 5)\n",
        "rng = np.random.RandomState(74)\n",
        "\n",
        "# Transform the data to be stretched\n",
        "transformation = rng.normal(size=(2, 2))\n",
        "X = np.dot(X, transformation)\n",
        "\n",
        "# Plot\n",
        "plt.scatter(X[:, 0], X[:, 1])\n",
        "plt.xlabel(\"Feature 0\")\n",
        "plt.ylabel(\"Feature 1\")\n",
        "plt.show()"
      ],
      "execution_count": null,
      "outputs": [
        {
          "output_type": "display_data",
          "data": {
            "text/plain": [
              "<Figure size 432x288 with 1 Axes>"
            ],
            "image/png": "[encoded data removed]"
          },
          "metadata": {
            "needs_background": "light"
          }
        }
      ]
    },
    {
      "cell_type": "markdown",
      "metadata": {
        "id": "wpB-G6DT3kVi"
      },
      "source": [
        "This is a fonction to show how your model performs."
      ]
    },
    {
      "cell_type": "code",
      "metadata": {
        "id": "Ck_Ro7i5gSwu"
      },
      "source": [
        "def show_model_prediction(model, X):\n",
        "  labels = model.fit_predict(X)\n",
        "  plt.scatter(X[:, 0], X[:, 1], c=labels,\n",
        "            s=50, cmap='viridis');"
      ],
      "execution_count": null,
      "outputs": []
    },
    {
      "cell_type": "markdown",
      "metadata": {
        "id": "xaL4uYQzd1LM"
      },
      "source": [
        "## Clustering algorithms from class\n",
        "\n",
        "Please try out a few of the algorithms we used in class and in the tutorials.\n",
        "\n",
        "You can use the code snippet below to show your model's prediction."
      ]
    },
    {
      "cell_type": "markdown",
      "metadata": {
        "id": "CI8OLLRPegrV"
      },
      "source": [
        "### Clustering Algorithm #1\n",
        "\n",
        "Please describe the algorithm you intended to use and tell me why you chose it.\n",
        "\n",
        "**Answer: K-means is a type of unsupervised machine learning algorithm that is used for clustering. The basic idea behind K-means is to partition a set of n observations into k clusters, where each observation belongs to the cluster with the nearest mean. The algorithm works by iteratively reassigning each observation to the cluster with the closest mean and then recomputing the means of each cluster until the cluster assignments no longer change.**\n",
        "\n",
        "**The advantages of using K-means :**\n",
        "\n",
        "**-K-means is relatively simple to implement and understand, making it a popular choice for many applications.**\n",
        "\n",
        "**-Computationally efficient: K-means scales well to large datasets and can be easily parallelized, making it a fast and efficient algorithm.**\n",
        "\n",
        "**-Handling non-linearly separable data: K-means can handle non-linearly separable data by using distance-based approach.**\n"
      ]
    },
    {
      "cell_type": "code",
      "source": [
        "inertias=[]\n",
        "from sklearn.cluster import KMeans\n",
        "for i in range(1,11):\n",
        "    kmeans = KMeans(n_clusters=i)\n",
        "    kmeans.fit(X)\n",
        "    inertias.append(kmeans.inertia_)\n",
        "\n",
        "plt.plot(range(1,11), inertias, marker='o')\n",
        "plt.title('Elbow method')\n",
        "plt.xlabel('Number of clusters')\n",
        "plt.ylabel('Inertia')\n",
        "plt.show()"
      ],
      "metadata": {
        "colab": {
          "base_uri": "https://localhost:8080/",
          "height": 295
        },
        "id": "wgfdG1ZU-zyT",
        "outputId": "1a3e0a3e-8f0f-4fb8-b91e-512b90d621bb"
      },
      "execution_count": null,
      "outputs": [
        {
          "output_type": "display_data",
          "data": {
            "text/plain": [
              "<Figure size 432x288 with 1 Axes>"
            ],
            "image/png": "[encoded data removed]"
          },
          "metadata": {
            "needs_background": "light"
          }
        }
      ]
    },
    {
      "cell_type": "markdown",
      "source": [
        "optimal nb cluster =4"
      ],
      "metadata": {
        "id": "Fsfk_DxFBB3_"
      }
    },
    {
      "cell_type": "code",
      "source": [
        "kmeans_model = KMeans(n_clusters=4, init=init)\n",
        "show_model_prediction(kmeans_model, X)"
      ],
      "metadata": {
        "colab": {
          "base_uri": "https://localhost:8080/",
          "height": 265
        },
        "id": "sdiz-jeXCENd",
        "outputId": "bb1add61-4bd1-48af-a28f-f3f94856360d"
      },
      "execution_count": null,
      "outputs": [
        {
          "output_type": "display_data",
          "data": {
            "text/plain": [
              "<Figure size 432x288 with 1 Axes>"
            ],
            "image/png": "[encoded data removed]"
          },
          "metadata": {
            "needs_background": "light"
          }
        }
      ]
    },
    {
      "cell_type": "code",
      "metadata": {
        "id": "sVtsAu0FelEr",
        "colab": {
          "base_uri": "https://localhost:8080/",
          "height": 112
        },
        "outputId": "ad202246-e49c-42b9-e445-6ddfd338b704"
      },
      "source": [
        "init_list = [\"k-means++\", \"random\"]\n",
        "inertia_list = []\n",
        "for init in init_list:\n",
        "    kmeans_model = KMeans(n_clusters=4, init=init)\n",
        "    kmeans_model.fit(X)\n",
        "    inertia_list.append(kmeans_model.inertia_)\n",
        "\n",
        "results = pandas.DataFrame(data=inertia_list, columns=[\"Inertia Value\"], index=init_list)\n",
        "results"
      ],
      "execution_count": null,
      "outputs": [
        {
          "output_type": "execute_result",
          "data": {
            "text/plain": [
              "           Inertia Value\n",
              "k-means++    1124.038173\n",
              "random       1124.038173"
            ],
            "text/html": [
              "\n",
              "  <div id=\"df-e415e88d-a220-4a85-8de0-0917a0381124\">\n",
              "    <div class=\"colab-df-container\">\n",
              "      <div>\n",
              "<style scoped>\n",
              "    .dataframe tbody tr th:only-of-type {\n",
              "        vertical-align: middle;\n",
              "    }\n",
              "\n",
              "    .dataframe tbody tr th {\n",
              "        vertical-align: top;\n",
              "    }\n",
              "\n",
              "    .dataframe thead th {\n",
              "        text-align: right;\n",
              "    }\n",
              "</style>\n",
              "<table border=\"1\" class=\"dataframe\">\n",
              "  <thead>\n",
              "    <tr style=\"text-align: right;\">\n",
              "      <th></th>\n",
              "      <th>Inertia Value</th>\n",
              "    </tr>\n",
              "  </thead>\n",
              "  <tbody>\n",
              "    <tr>\n",
              "      <th>k-means++</th>\n",
              "      <td>1124.038173</td>\n",
              "    </tr>\n",
              "    <tr>\n",
              "      <th>random</th>\n",
              "      <td>1124.038173</td>\n",
              "    </tr>\n",
              "  </tbody>\n",
              "</table>\n",
              "</div>\n",
              "      <button class=\"colab-df-convert\" onclick=\"convertToInteractive('df-e415e88d-a220-4a85-8de0-0917a0381124')\"\n",
              "              title=\"Convert this dataframe to an interactive table.\"\n",
              "              style=\"display:none;\">\n",
              "        \n",
              "  <svg xmlns=\"http://www.w3.org/2000/svg\" height=\"24px\"viewBox=\"0 0 24 24\"\n",
              "       width=\"24px\">\n",
              "    <path d=\"M0 0h24v24H0V0z\" fill=\"none\"/>\n",
              "    <path d=\"M18.56 5.44l.94 2.06.94-2.06 2.06-.94-2.06-.94-.94-2.06-.94 2.06-2.06.94zm-11 1L8.5 8.5l.94-2.06 2.06-.94-2.06-.94L8.5 2.5l-.94 2.06-2.06.94zm10 10l.94 2.06.94-2.06 2.06-.94-2.06-.94-.94-2.06-.94 2.06-2.06.94z\"/><path d=\"M17.41 7.96l-1.37-1.37c-.4-.4-.92-.59-1.43-.59-.52 0-1.04.2-1.43.59L10.3 9.45l-7.72 7.72c-.78.78-.78 2.05 0 2.83L4 21.41c.39.39.9.59 1.41.59.51 0 1.02-.2 1.41-.59l7.78-7.78 2.81-2.81c.8-.78.8-2.07 0-2.86zM5.41 20L4 18.59l7.72-7.72 1.47 1.35L5.41 20z\"/>\n",
              "  </svg>\n",
              "      </button>\n",
              "      \n",
              "  <style>\n",
              "    .colab-df-container {\n",
              "      display:flex;\n",
              "      flex-wrap:wrap;\n",
              "      gap: 12px;\n",
              "    }\n",
              "\n",
              "    .colab-df-convert {\n",
              "      background-color: #E8F0FE;\n",
              "      border: none;\n",
              "      border-radius: 50%;\n",
              "      cursor: pointer;\n",
              "      display: none;\n",
              "      fill: #1967D2;\n",
              "      height: 32px;\n",
              "      padding: 0 0 0 0;\n",
              "      width: 32px;\n",
              "    }\n",
              "\n",
              "    .colab-df-convert:hover {\n",
              "      background-color: #E2EBFA;\n",
              "      box-shadow: 0px 1px 2px rgba(60, 64, 67, 0.3), 0px 1px 3px 1px rgba(60, 64, 67, 0.15);\n",
              "      fill: #174EA6;\n",
              "    }\n",
              "\n",
              "    [theme=dark] .colab-df-convert {\n",
              "      background-color: #3B4455;\n",
              "      fill: #D2E3FC;\n",
              "    }\n",
              "\n",
              "    [theme=dark] .colab-df-convert:hover {\n",
              "      background-color: #434B5C;\n",
              "      box-shadow: 0px 1px 3px 1px rgba(0, 0, 0, 0.15);\n",
              "      filter: drop-shadow(0px 1px 2px rgba(0, 0, 0, 0.3));\n",
              "      fill: #FFFFFF;\n",
              "    }\n",
              "  </style>\n",
              "\n",
              "      <script>\n",
              "        const buttonEl =\n",
              "          document.querySelector('#df-e415e88d-a220-4a85-8de0-0917a0381124 button.colab-df-convert');\n",
              "        buttonEl.style.display =\n",
              "          google.colab.kernel.accessAllowed ? 'block' : 'none';\n",
              "\n",
              "        async function convertToInteractive(key) {\n",
              "          const element = document.querySelector('#df-e415e88d-a220-4a85-8de0-0917a0381124');\n",
              "          const dataTable =\n",
              "            await google.colab.kernel.invokeFunction('convertToInteractive',\n",
              "                                                     [key], {});\n",
              "          if (!dataTable) return;\n",
              "\n",
              "          const docLinkHtml = 'Like what you see? Visit the ' +\n",
              "            '<a target=\"_blank\" href=https://colab.research.google.com/notebooks/data_table.ipynb>data table notebook</a>'\n",
              "            + ' to learn more about interactive tables.';\n",
              "          element.innerHTML = '';\n",
              "          dataTable['output_type'] = 'display_data';\n",
              "          await google.colab.output.renderOutput(dataTable, element);\n",
              "          const docLink = document.createElement('div');\n",
              "          docLink.innerHTML = docLinkHtml;\n",
              "          element.appendChild(docLink);\n",
              "        }\n",
              "      </script>\n",
              "    </div>\n",
              "  </div>\n",
              "  "
            ]
          },
          "metadata": {},
          "execution_count": 29
        }
      ]
    },
    {
      "cell_type": "markdown",
      "source": [
        "**The Inertia value can also be used for finding better hyperparameters for the unsupervised K-Means algorithm. One potential hyperparameter is the initialization method. In Scikit-Learn, there are two different possibilities. One is called k-means++ and one is called random. But which initialization should be used? In order to answer this question, one could train one K-Means model for each initialization strategy and compare its Inertia values. The strategy leading to a smaller Inertia value can then be used as optimal sttrqtegie\n",
        "As one can see, the random initialization achieves a slightly smaller Inertia value and could here be used as the optimal initialization strategy.**\n",
        "\n"
      ],
      "metadata": {
        "id": "47UVE-elAum5"
      }
    },
    {
      "cell_type": "markdown",
      "metadata": {
        "id": "WrW5TXTcfAE2"
      },
      "source": [
        "### Clustering Algorithm #2\n",
        "\n",
        "Please describe the algorithm you intended to use and tell me why you chose it.\n",
        "\n",
        "**Answer: DBSCAN (Density-Based Spatial Clustering of Applications with Noise) is a density-based clustering algorithm that groups together observations that are closely packed together (points with many nearby neighbors), and marks as outliers the points that are in low-density regions.**\n",
        "\n",
        "**The algorithm works by defining a neighborhood around each point, and then grouping together all points that are closely packed together. The algorithm has two main parameters: Eps, the radius of the neighborhood, and MinPts, the minimum number of points in the neighborhood.**\n",
        "\n",
        "**The advantages of using DBSCAN include:**\n",
        "\n",
        "**-Handling non-linearly separable data: DBSCAN is particularly good at handling non-linearly separable data and discovering clusters of arbitrary shape.**\n",
        "\n",
        "**-Handling high-dimensional data: DBSCAN can handle high-dimensional data, which is a common problem in many applications.**\n",
        "\n",
        "**-Handling noise and outliers: DBSCAN can identify and exclude noise and outliers from the clustering process.**\n",
        "\n",
        "**-Handling variable density clusters: DBSCAN can identify clusters with varying densities, unlike k-means, which assumes that clusters have similar densities.**\n",
        "\n",
        "**-Handling large and complex datasets: DBSCAN can handle large and complex datasets, making it a suitable algorithm for big data applications.**\n",
        "\n",
        "**-No need to specify number of clusters: Unlike k-means, DBSCAN does not require the number of clusters to be specified in advance.**\n",
        "\n",
        "**-Being a density-based method, it is more robust to the structure of the data, and can identify clusters of different densities and shapes.**"
      ]
    },
    {
      "cell_type": "code",
      "metadata": {
        "id": "GOCk5NapfEjk",
        "colab": {
          "base_uri": "https://localhost:8080/",
          "height": 265
        },
        "outputId": "de9b160b-a9f8-4a76-aff5-085af8bba196"
      },
      "source": [
        "import numpy as np\n",
        "import pandas as pd\n",
        "import seaborn as sns\n",
        "import matplotlib.pyplot as plt\n",
        "from sklearn.cluster import DBSCAN\n",
        "\n",
        "clustering = DBSCAN(eps=0.55, min_samples=2).fit(X)\n",
        "DBSCAN_dataset = X.copy()\n",
        "\n",
        "\n",
        "show_model_prediction(clustering, X)\n",
        "\n",
        "\n",
        "\n",
        "# Instantiate and fit your model here\n",
        "# model_2 =\n",
        "# model_2.fit(X)\n",
        "# show_model_prediction(model_2, X)"
      ],
      "execution_count": null,
      "outputs": [
        {
          "output_type": "display_data",
          "data": {
            "text/plain": [
              "<Figure size 432x288 with 1 Axes>"
            ],
            "image/png": "[encoded data removed]"
          },
          "metadata": {
            "needs_background": "light"
          }
        }
      ]
    },
    {
      "cell_type": "markdown",
      "metadata": {
        "id": "6FEyyEcR3tgi"
      },
      "source": [
        "## New clustering algorithms\n",
        "\n",
        "Please try out a few of the algorithms we did not use in class. Have a look [here](https://scikit-learn.org/stable/modules/clustering.html#clustering) for inspiration.\n",
        "\n",
        "You can use the code snippet below to show your model's prediction."
      ]
    },
    {
      "cell_type": "code",
      "metadata": {
        "id": "ODmCRREB4AA5",
        "colab": {
          "base_uri": "https://localhost:8080/",
          "height": 265
        },
        "outputId": "0c2f403b-81ae-43bd-b0e4-50c61b2b2148"
      },
      "source": [
        "import numpy as np\n",
        "from sklearn.mixture import GaussianMixture\n",
        "\n",
        "GMM = GaussianMixture(n_components=5,n_init=4, random_state=4,tol=0.000000005).fit(X)\n",
        "\n",
        "show_model_prediction(GMM, X)"
      ],
      "execution_count": null,
      "outputs": [
        {
          "output_type": "display_data",
          "data": {
            "text/plain": [
              "<Figure size 432x288 with 1 Axes>"
            ],
            "image/png": "[encoded data removed]"
          },
          "metadata": {
            "needs_background": "light"
          }
        }
      ]
    },
    {
      "cell_type": "markdown",
      "metadata": {
        "id": "tXkPAD_tkCMj"
      },
      "source": [
        "# Wrapping up\n",
        "\n",
        "What did you take out from this?\n",
        "\n",
        "**Answer:Different unsupervised learning algorithms can have different performances depending on the classified data distribution. The choice of the algorithm to use should be concidered carfully depending of the problem at hand**"
      ]
    }
  ]
}